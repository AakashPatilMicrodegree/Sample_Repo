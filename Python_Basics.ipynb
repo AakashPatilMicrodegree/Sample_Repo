{
 "cells": [
  {
   "cell_type": "code",
   "execution_count": 2,
   "id": "dirty-roommate",
   "metadata": {},
   "outputs": [
    {
     "name": "stdout",
     "output_type": "stream",
     "text": [
      "Hello World\n"
     ]
    }
   ],
   "source": [
    "print(\"Hello World\")"
   ]
  },
  {
   "cell_type": "markdown",
   "id": "fourth-rebate",
   "metadata": {},
   "source": [
    "# Variable Types"
   ]
  },
  {
   "cell_type": "code",
   "execution_count": 8,
   "id": "spanish-intro",
   "metadata": {},
   "outputs": [
    {
     "name": "stdout",
     "output_type": "stream",
     "text": [
      "False\n",
      "<class 'bool'>\n"
     ]
    }
   ],
   "source": [
    "# int \n",
    "# float \n",
    "# string \"\" ''\n",
    "# boolean -> True and False\n",
    "x= False\n",
    "print(x)\n",
    "print(type(x))"
   ]
  },
  {
   "cell_type": "markdown",
   "id": "hollow-surfing",
   "metadata": {},
   "source": [
    "# List , Tuple , set dictionary"
   ]
  },
  {
   "cell_type": "code",
   "execution_count": 16,
   "id": "gothic-committee",
   "metadata": {},
   "outputs": [
    {
     "name": "stdout",
     "output_type": "stream",
     "text": [
      "[100, 200, 300, 'hello']\n",
      "200\n",
      "hello\n",
      "[200, 300, 'hello']\n",
      "[500, 200, 300, 'hello']\n"
     ]
    }
   ],
   "source": [
    "# list\n",
    "# mutable\n",
    "sample = [100,200,300,\"hello\"]\n",
    "print(sample)\n",
    "# Indexing\n",
    "print(sample[1])\n",
    "print(sample[-1])\n",
    "print(sample[1:4])\n",
    "\n",
    "# update \n",
    "sample[0] = 500\n",
    "print(sample)"
   ]
  },
  {
   "cell_type": "code",
   "execution_count": 19,
   "id": "transsexual-pantyhose",
   "metadata": {},
   "outputs": [
    {
     "name": "stdout",
     "output_type": "stream",
     "text": [
      "(900, 800, 700)\n"
     ]
    }
   ],
   "source": [
    "# tuple\n",
    "# immutable\n",
    "sample_tuple = (900,800,700,600)\n",
    "print(sample_tuple[0:3])"
   ]
  },
  {
   "cell_type": "code",
   "execution_count": 24,
   "id": "surprised-toronto",
   "metadata": {},
   "outputs": [
    {
     "name": "stdout",
     "output_type": "stream",
     "text": [
      "{200, 600, 500, 400}\n",
      "{8000, 200, 400, 500, 600}\n",
      "{8000, 200, 500, 600}\n"
     ]
    }
   ],
   "source": [
    "# set \n",
    "# indexing \n",
    "# mutable\n",
    "# no duplicates allowed [ all items are unique]\n",
    "sample_set = {200,400,500,600,600}\n",
    "print(sample_set)\n",
    "sample_set.add(8000)\n",
    "print(sample_set)\n",
    "sample_set.remove(400)\n",
    "print(sample_set)"
   ]
  },
  {
   "cell_type": "code",
   "execution_count": 27,
   "id": "loved-disclosure",
   "metadata": {},
   "outputs": [
    {
     "name": "stdout",
     "output_type": "stream",
     "text": [
      "[100, 200, 100, 200, 300, 'hello']\n",
      "{200, 'hello', 100, 300}\n",
      "(100, 200, 100, 200, 300, 'hello')\n"
     ]
    }
   ],
   "source": [
    "sample = [100,200,100,200,300,\"hello\"]\n",
    "print(sample)\n",
    "new_sample = set(sample)\n",
    "print(new_sample)\n",
    "new_tuple = tuple(sample)\n",
    "print(new_tuple)"
   ]
  },
  {
   "cell_type": "code",
   "execution_count": 32,
   "id": "beginning-insurance",
   "metadata": {},
   "outputs": [
    {
     "name": "stdout",
     "output_type": "stream",
     "text": [
      "{'x': 100, 'y': 200, 'z': 300}\n",
      "dict_keys(['x', 'y', 'z'])\n",
      "dict_values([100, 200, 300])\n",
      "{'x': 100, 'y': 200, 'z': 300, 'a': 300}\n",
      "{'x': 111, 'y': 200, 'z': 300, 'a': 300}\n"
     ]
    }
   ],
   "source": [
    "# dictionary\n",
    "# key : value \n",
    "sample_dict = {\"x\":100,\"y\":200,\"z\":300}\n",
    "print(sample_dict)\n",
    "\n",
    "print(sample_dict.keys())\n",
    "print(sample_dict.values())\n",
    "\n",
    "sample_dict[\"a\"]=300\n",
    "print(sample_dict)\n",
    "\n",
    "sample_dict[\"x\"]=111\n",
    "print(sample_dict)"
   ]
  },
  {
   "cell_type": "markdown",
   "id": "responsible-bowling",
   "metadata": {},
   "source": [
    "# Conditional statements"
   ]
  },
  {
   "cell_type": "code",
   "execution_count": 39,
   "id": "narrow-animal",
   "metadata": {},
   "outputs": [
    {
     "name": "stdout",
     "output_type": "stream",
     "text": [
      "Passed with Distiction\n"
     ]
    }
   ],
   "source": [
    "marks = 90\n",
    "if marks>=35 and marks<65:\n",
    "    print(\"Passed!\")\n",
    "elif marks > 65 and marks<85:\n",
    "    print(\"Passed with First class\")\n",
    "elif marks > 85 :\n",
    "    print(\"Passed with Distiction\")\n",
    "else:\n",
    "    print(\"Fail\")\n",
    "    "
   ]
  },
  {
   "cell_type": "markdown",
   "id": "charged-position",
   "metadata": {},
   "source": [
    "# loops "
   ]
  },
  {
   "cell_type": "code",
   "execution_count": 47,
   "id": "figured-region",
   "metadata": {},
   "outputs": [
    {
     "name": "stdout",
     "output_type": "stream",
     "text": [
      "100\n",
      "200\n",
      "300\n",
      "hello\n",
      "Range with single value\n",
      "0\n",
      "1\n",
      "2\n",
      "3\n",
      "4\n",
      "Range with two value\n",
      "5\n",
      "6\n",
      "7\n",
      "8\n",
      "9\n",
      "Range with three value\n",
      "10\n",
      "12\n",
      "14\n"
     ]
    }
   ],
   "source": [
    "# for loop \n",
    "sample = [100,200,300,\"hello\"]\n",
    "for item in sample:\n",
    "    print(item)\n",
    "    \n",
    "print(\"Range with single value\")\n",
    "for item in range(5):\n",
    "    print(item)\n",
    "\n",
    "print(\"Range with two value\")\n",
    "for item in range(5,10):\n",
    "    print(item)\n",
    "    \n",
    "print(\"Range with three value\")\n",
    "for item in range(10,20,2):\n",
    "    print(item)\n",
    "    if item == 14:\n",
    "        break"
   ]
  },
  {
   "cell_type": "code",
   "execution_count": 45,
   "id": "medieval-employee",
   "metadata": {},
   "outputs": [
    {
     "name": "stdout",
     "output_type": "stream",
     "text": [
      "200\n",
      "200\n",
      "hello\n"
     ]
    }
   ],
   "source": [
    "sample = [100,200,100,200,300,\"hello\"]\n",
    "for i in range(1,len(sample),2):\n",
    "    print(sample[i])"
   ]
  },
  {
   "cell_type": "markdown",
   "id": "provincial-olive",
   "metadata": {},
   "source": [
    "# while loop "
   ]
  },
  {
   "cell_type": "code",
   "execution_count": 48,
   "id": "japanese-tribe",
   "metadata": {},
   "outputs": [
    {
     "name": "stdout",
     "output_type": "stream",
     "text": [
      "0\n",
      "1\n",
      "2\n",
      "3\n",
      "4\n"
     ]
    }
   ],
   "source": [
    "xx = 0\n",
    "while xx<8:\n",
    "    print(xx)\n",
    "    xx+=1\n",
    "    if xx== 5:\n",
    "        break\n",
    "    "
   ]
  },
  {
   "cell_type": "code",
   "execution_count": 52,
   "id": "robust-stopping",
   "metadata": {},
   "outputs": [
    {
     "name": "stdout",
     "output_type": "stream",
     "text": [
      "0\n",
      "1\n",
      "2\n",
      "3\n",
      "4\n",
      "6\n",
      "7\n"
     ]
    }
   ],
   "source": [
    "xx = 0\n",
    "while xx<8:\n",
    "    if xx==5: \n",
    "        xx+=1\n",
    "        continue\n",
    "    print(xx)\n",
    "    xx+=1\n"
   ]
  },
  {
   "cell_type": "markdown",
   "id": "surface-compound",
   "metadata": {},
   "source": [
    "# functions"
   ]
  },
  {
   "cell_type": "code",
   "execution_count": 53,
   "id": "suited-belgium",
   "metadata": {},
   "outputs": [
    {
     "name": "stdout",
     "output_type": "stream",
     "text": [
      "Hello World!\n"
     ]
    }
   ],
   "source": [
    "def greet():\n",
    "    print(\"Hello World!\")\n",
    "\n",
    "greet()"
   ]
  },
  {
   "cell_type": "code",
   "execution_count": 54,
   "id": "established-backup",
   "metadata": {},
   "outputs": [
    {
     "name": "stdout",
     "output_type": "stream",
     "text": [
      "Hello Microdegree\n"
     ]
    }
   ],
   "source": [
    "def greet(name):\n",
    "    print(f\"Hello {name}\")\n",
    "greet(\"Microdegree\")"
   ]
  },
  {
   "cell_type": "code",
   "execution_count": 56,
   "id": "induced-memorabilia",
   "metadata": {},
   "outputs": [
    {
     "name": "stdout",
     "output_type": "stream",
     "text": [
      "Aakash Patil\n"
     ]
    }
   ],
   "source": [
    "def greet(fname,lname):\n",
    "    print(f\"{fname} {lname}\")\n",
    "greet(\"Aakash\",\"Patil\")"
   ]
  },
  {
   "cell_type": "code",
   "execution_count": 65,
   "id": "listed-locator",
   "metadata": {},
   "outputs": [
    {
     "name": "stdout",
     "output_type": "stream",
     "text": [
      "fname='Aakash' lname='Patil' email='Sample@gmail.com' phn='8963578663'\n"
     ]
    }
   ],
   "source": [
    "def greet(fname,lname,email = \"Sample@gmail.com\",phn = \"09887566543\"):\n",
    "    print(f\"{fname=} {lname=} {email=} {phn=}\")\n",
    "    \n",
    "greet(\"Aakash\",\"Patil\",phn=\"8963578663\")"
   ]
  },
  {
   "cell_type": "code",
   "execution_count": 81,
   "id": "improved-revelation",
   "metadata": {},
   "outputs": [
    {
     "name": "stdout",
     "output_type": "stream",
     "text": [
      "fname='Aakash' lname='Patil' email='8963578663'\n",
      "args=('h3llo', 'world')\n",
      "kwargs={'phn': '8963578663'}\n"
     ]
    }
   ],
   "source": [
    "def greet(fname,lname,*args,email = \"Sample@gmail.com\",**kwargs):\n",
    "    print(f\"{fname=} {lname=} {email=}\")\n",
    "    print(f\"{args=}\")\n",
    "    print(f\"{kwargs=}\")\n",
    "    \n",
    "greet(\"Aakash\",\"Patil\",\"h3llo\",\"world\",email=\"8963578663\",phn=\"8963578663\")"
   ]
  },
  {
   "cell_type": "code",
   "execution_count": null,
   "id": "structural-soundtrack",
   "metadata": {},
   "outputs": [],
   "source": []
  }
 ],
 "metadata": {
  "kernelspec": {
   "display_name": "Python 3",
   "language": "python",
   "name": "python3"
  },
  "language_info": {
   "codemirror_mode": {
    "name": "ipython",
    "version": 3
   },
   "file_extension": ".py",
   "mimetype": "text/x-python",
   "name": "python",
   "nbconvert_exporter": "python",
   "pygments_lexer": "ipython3",
   "version": "3.9.2"
  }
 },
 "nbformat": 4,
 "nbformat_minor": 5
}
